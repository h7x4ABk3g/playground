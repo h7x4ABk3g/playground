{
 "metadata": {
  "language_info": {
   "codemirror_mode": {
    "name": "ipython",
    "version": 3
   },
   "file_extension": ".py",
   "mimetype": "text/x-python",
   "name": "python",
   "nbconvert_exporter": "python",
   "pygments_lexer": "ipython3",
   "version": "3.9.1-final"
  },
  "orig_nbformat": 2,
  "kernelspec": {
   "name": "python3",
   "display_name": "Python 3",
   "language": "python"
  }
 },
 "nbformat": 4,
 "nbformat_minor": 2,
 "cells": [
  {
   "cell_type": "code",
   "execution_count": 35,
   "metadata": {},
   "outputs": [],
   "source": [
    "from ctypes import CDLL\n",
    "from os import system\n",
    "\n",
    "def compile(filename):\n",
    "  system(f'cc -fPIC -shared -o {filename}.so {filename}.c')\n",
    "\n",
    "compile(\"./fib\")\n",
    "shared_lib = CDLL('./fib.so')\n",
    "\n",
    "def fib_py(n):\n",
    "  a = 1\n",
    "  b = 0\n",
    "  i = 0\n",
    "  while i != n - 1:\n",
    "    c = a\n",
    "    a = a + b\n",
    "    b = c\n",
    "    i += 1\n",
    "  return b"
   ]
  },
  {
   "cell_type": "code",
   "execution_count": 36,
   "metadata": {},
   "outputs": [],
   "source": [
    "num = 47       # The nth fibonacci number"
   ]
  },
  {
   "cell_type": "code",
   "execution_count": 37,
   "metadata": {},
   "outputs": [
    {
     "output_type": "stream",
     "name": "stdout",
     "text": [
      "37.5 ms ± 1.25 ms per loop (mean ± std. dev. of 5 runs, 5 loops each)\n"
     ]
    }
   ],
   "source": [
    "%timeit -n 5 -r 5 compile('./fib')"
   ]
  },
  {
   "cell_type": "code",
   "execution_count": 38,
   "metadata": {},
   "outputs": [
    {
     "output_type": "stream",
     "name": "stdout",
     "text": [
      "3.42 µs ± 548 ns per loop (mean ± std. dev. of 1000 runs, 1000 loops each)\n"
     ]
    }
   ],
   "source": [
    "%timeit -n 1000 -r 1000 fib_py(num)"
   ]
  },
  {
   "cell_type": "code",
   "execution_count": 39,
   "metadata": {},
   "outputs": [
    {
     "output_type": "stream",
     "name": "stdout",
     "text": [
      "The slowest run took 4.03 times longer than the fastest. This could mean that an intermediate result is being cached.\n337 ns ± 71.2 ns per loop (mean ± std. dev. of 1000 runs, 1000 loops each)\n"
     ]
    }
   ],
   "source": [
    "%timeit -n 1000 -r 1000 shared_lib.fibC(num)"
   ]
  },
  {
   "cell_type": "code",
   "execution_count": 40,
   "metadata": {},
   "outputs": [
    {
     "output_type": "stream",
     "name": "stdout",
     "text": [
      "The slowest run took 4.77 times longer than the fastest. This could mean that an intermediate result is being cached.\n308 ns ± 73.1 ns per loop (mean ± std. dev. of 1000 runs, 1000 loops each)\n"
     ]
    }
   ],
   "source": [
    "%timeit -n 1000 -r 1000 shared_lib.fibASM(num)"
   ]
  },
  {
   "cell_type": "code",
   "execution_count": 41,
   "metadata": {},
   "outputs": [
    {
     "output_type": "stream",
     "name": "stdout",
     "text": [
      "The slowest run took 5.34 times longer than the fastest. This could mean that an intermediate result is being cached.\n247 ns ± 67.7 ns per loop (mean ± std. dev. of 1000 runs, 1000 loops each)\n"
     ]
    }
   ],
   "source": [
    "%timeit -n 1000 -r 1000 shared_lib.fibASMWithoutStack(num)"
   ]
  }
 ]
}